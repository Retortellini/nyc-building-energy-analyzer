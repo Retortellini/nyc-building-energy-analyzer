{
 "cells": [
  {
   "cell_type": "code",
   "execution_count": 1,
   "id": "a002dba4",
   "metadata": {},
   "outputs": [],
   "source": [
    "import pandas as pd\n",
    "import numpy as np\n",
    "import matplotlib.pyplot as plt\n",
    "import seaborn as sns\n"
   ]
  },
  {
   "cell_type": "code",
   "execution_count": 2,
   "id": "acd8347e",
   "metadata": {},
   "outputs": [
    {
     "name": "stderr",
     "output_type": "stream",
     "text": [
      "C:\\Users\\Cooper\\AppData\\Local\\Temp\\ipykernel_16884\\1099555517.py:2: DtypeWarning: Columns (10,16,32,34,42,61,76,77,78,79,80,81,82,91,174,239,240,241,242,243,244,245,246,247,248) have mixed types. Specify dtype option on import or set low_memory=False.\n",
      "  df = pd.read_csv('data/raw/nyc_energy_2022.csv')\n"
     ]
    }
   ],
   "source": [
    "# Load data\n",
    "df = pd.read_csv('data/raw/nyc_energy_2022.csv')"
   ]
  },
  {
   "cell_type": "code",
   "execution_count": 3,
   "id": "9cc765c8",
   "metadata": {},
   "outputs": [
    {
     "name": "stdout",
     "output_type": "stream",
     "text": [
      "Dataset shape: (64169, 265)\n",
      "Columns: ['Calendar Year', 'Property ID', 'Property Name', 'Parent Property ID', 'Parent Property Name', 'Year Ending', 'NYC Borough, Block and Lot (BBL)', 'NYC Building Identification Number (BIN)', 'Address 1', 'City', 'Postal Code', 'Primary Property Type - Self Selected', 'Primary Property Type - Portfolio Manager-Calculated', 'National Median Reference Property Type', 'List of All Property Use Types (GFA) (ft²)', 'Largest Property Use Type', 'Largest Property Use Type - Gross Floor Area (ft²)', '2nd Largest Property Use Type', '2nd Largest Property Use Type - Gross Floor Area (ft²)', '3rd Largest Property Use Type', '3rd Largest Property Use Type - Gross Floor Area (ft²)', 'Year Built', 'Construction Status', 'Number of Buildings', 'Occupancy', 'Metered Areas (Energy)', 'Metered Areas (Water)', 'ENERGY STAR Score', 'National Median ENERGY STAR Score', 'Target ENERGY STAR Score', 'Reason(s) for No Score', 'ENERGY STAR Certification - Year(s) Certified (Score)', 'Eligible for Certification for Report PED (Y/N)', 'ENERGY STAR Certification - Last Approval Date', 'ENERGY STAR Certification - Application Status', 'Site EUI (kBtu/ft²)', 'Weather Normalized Site EUI (kBtu/ft²)', 'National Median Site EUI (kBtu/ft²)', 'Site Energy Use (kBtu)', 'Weather Normalized Site Energy Use (kBtu)', 'Electricity - Weather Normalized Site Electricity Use (Grid and Onsite Renewables) (kWh)', 'Electricity - Weather Normalized Site Electricity Intensity (Grid and Onsite Renewables) (kWh/ft²)', 'Percent Electricity', 'Natural Gas - Weather Normalized Site Natural Gas Use (therms)', 'Natural Gas - Weather Normalized Site Natural Gas Intensity (therms/ft²)', 'Source EUI (kBtu/ft²)', 'Weather Normalized Source EUI (kBtu/ft²)', 'National Median Source EUI (kBtu/ft²)', 'Source Energy Use (kBtu)', 'Weather Normalized Source Energy Use (kBtu)', 'Fuel Oil #1 Use (kBtu)', 'Fuel Oil #2 Use (kBtu)', 'Fuel Oil #4 Use (kBtu)', 'Fuel Oil #5 & 6 Use (kBtu)', 'Diesel #2 Use (kBtu)', 'Propane Use (kBtu)', 'Kerosene Use (kBtu)', 'District Steam Use (kBtu)', 'District Hot Water Use (kBtu)', 'District Chilled Water Use (kBtu)', 'Natural Gas Use (kBtu)', 'Natural Gas Use (therms)', 'Electricity Use - Grid Purchase (kBtu)', 'Electricity Use - Grid Purchase (kWh)', 'Electricity Use - Grid Purchase and Generated from Onsite Renewable Systems (kWh)', 'Electricity Use - Grid Purchase and Generated from Onsite Renewable Systems (kBtu)', 'Electricity Use – Generated from Onsite Renewable Systems and Used Onsite (kWh)', 'Electricity Use – Generated from Onsite Renewable Systems and Used Onsite (kBtu)', 'Electricity Use – Generated from Onsite Renewable Systems (kWh)', 'Electricity Use – Generated from Onsite Renewable Systems and Exported (kWh)', 'Annual Maximum Demand (kW)', 'Annual Maximum Demand (MM/YYYY)', 'Annual Maximum Demand (Meter Name (Meter ID))', 'Green Power - Onsite (kWh)', 'Green Power - Offsite (kWh)', 'Green Power - Onsite and Offsite (kWh)', 'Total (Location-Based) GHG Emissions (Metric Tons CO2e)', 'Total (Location-Based) GHG Emissions Intensity (kgCO2e/ft²)', 'Direct GHG Emissions (Metric Tons CO2e)', 'Direct GHG Emissions Intensity (kgCO2e/ft²)', 'Indirect (Location-Based) GHG Emissions (Metric Tons CO2e)', 'Indirect (Location-Based) GHG Emissions Intensity (kgCO2e/ft²)', 'Net Emissions (Metric Tons CO2e)', 'National Median Total (Location-Based) GHG Emissions (Metric Tons CO2e)', 'Avoided Emissions - Onsite Green Power (Metric Tons CO2e)', 'Avoided Emissions - Offsite Green Power (Metric Tons CO2e)', 'Avoided Emissions - Onsite and Offsite Green Power (Metric Tons CO2e)', 'Percent of Electricity that is Green Power', 'Percent of RECs Retained', 'Percent of Total Electricity Generated from Onsite Renewable Systems', 'LEED US Project ID', 'Default Values', 'Temporary Values', 'Estimated Values - Energy', 'Estimated Values - Water', 'Alert - Energy Meter has less than 12 full calendar months of data', 'Alert - Energy Meter has gaps', 'Alert - Energy Meter has overlaps', 'Alert - Energy - No meters selected for metrics', 'Alert - Energy Meter has single entry more than 65 days', 'Alert - Property has no uses', 'Alert - Water Meter has less than 12 full calendar months of data', 'Alert - Data Center Issue (with Estimates, IT Configuration, or IT Meter)', 'Alert - Gross Floor Area is 0 ft2', 'Estimated Data Flag - Electricity (Grid Purchase)', 'Estimated Data Flag - Natural Gas', 'Estimated Data Flag - District Steam', 'Estimated Data Flag - Municipally Supplied Potable Water: Mixed Indoor/Outdoor Use', 'Estimated Data Flag - Fuel Oil (No. 1)', 'Estimated Data Flag - Fuel Oil (No. 2)', 'Estimated Data Flag - Fuel Oil (No. 4)', 'Estimated Data Flag - Fuel Oil (No. 5 and No. 6)', 'Estimated Data Flag - Diesel', 'Estimated Data Flag - Electricity (Onsite Solar)', 'Data Center - UPS Output Meter (kWh)', 'Data Center - PDU Input Meter (kWh)', 'Data Center - PDU Output Meter (kWh)', 'Data Center - IT Equipment Input Meter (kWh)', 'Data Center - IT Site Energy (kWh)', 'Data Center - IT Source Energy (kBtu)', 'Data Center - PUE', 'Data Center - National Median PUE', 'Data Center - Gross Floor Area (ft²)', 'Data Center - UPS System Redundancy', 'Data Center - IT Energy Configuration', 'Data Center - Energy Estimates Applied', 'Data Center - Cooling Equipment Redundancy', 'Adult Education - Gross Floor Area (ft²)', 'Ambulatory Surgical Center - Gross Floor Area (ft²)', 'Vehicle Dealership - Gross Floor Area (ft²)', 'Bank Branch - Gross Floor Area (ft²)', 'Barracks- Gross Floor Area (ft²)', 'College/University - Gross Floor Area (ft²)', 'Convention Center - Gross Floor Area (ft²)', 'Courthouse - Gross Floor Area (ft²)', 'Distribution Center - Gross Floor Area (ft²)', 'Enclosed Mall - Gross Floor Area (ft²)', 'Energy/Power Station - Gross Floor Area (ft²)', 'Financial Office - Gross Floor Area (ft²)', 'Financial Office - Number of Computers', 'Financial Office - Weekly Operating Hours', 'Financial Office - Number of Workers on Main Shift', 'Fitness Center/Health Club/Gym - Gross Floor Area (ft²)', 'Food Sales - Gross Floor Area (ft²)', 'Food Service - Gross Floor Area (ft²)', 'Hospital (General Medical & Surgical) - Full-Time Equivalent (FTE) Workers', 'Hospital (General Medical & Surgical) - Gross Floor Area (ft²)', 'Hospital (General Medical & Surgical) - Laboratory', 'Hospital (General Medical & Surgical) - Licensed Bed Capacity', 'Hospital (General Medical & Surgical) - Number of MRI Machines', 'Hospital (General Medical & Surgical) - MRI Density (Number per 1,000 sq ft)', 'Hospital (General Medical & Surgical) - Number of Staffed Beds', 'Hospital (General Medical & Surgical) - Staffed Bed Density (Number per 1,000 sq ft)', 'Hospital (General Medical & Surgical) - Full-Time Equivalent (FTE) Worker Density (Number per 1,000 sq ft)', 'Hospital (General Medical & Surgical) - Percent That Can Be Cooled', 'Hospital (General Medical & Surgical) - Percent That Can Be Heated', 'Medical Office - Gross Floor Area (ft²)', 'Medical Office - Number of Computers', 'Medical Office - Number of MRI Machines', 'Medical Office - Number of Workers on Main Shift', 'Medical Office - Percent That Can Be Cooled', 'Medical Office - Percent That Can Be Heated', 'Medical Office - Weekly Operating Hours', 'Outpatient Rehabilitation/Physical Therapy - Gross Floor Area (ft²)', 'Urgent Care/Clinic/Other Outpatient - Gross Floor Area (ft²)', 'Hotel - Gross Floor Area (ft²)', 'Hotel - Gym/fitness  Center Floor Area (ft²)', 'K-12 School - Gross Floor Area (ft²)', 'Pre-school/Daycare - Gross Floor Area (ft²)', 'Laboratory - Gross Floor Area (ft²)', 'Mailing Center/Post Office - Gross Floor Area (ft²)', 'Movie Theater - Gross Floor Area (ft²)', 'Manufacturing/Industrial Plant - Gross Floor Area (ft²)', 'Multifamily Housing - Government Subsidized Housing', 'Institutional Property? (Y/N)', 'Multifamily Housing - Gross Floor Area (ft²)', 'Multifamily Housing - Number of Bedrooms', 'Multifamily Housing - Number of Bedrooms Density (Number per 1,000 sq ft)', 'Multifamily Housing - Number of Laundry Hookups in All Units', 'Multifamily Housing - Number of Laundry Hookups in Common Area(s)', 'Multifamily Housing - Number of Residential Living Units in a High-Rise Building (10 or more Stories)', 'Multifamily Housing - Percent That Can Be Cooled', 'Multifamily Housing - Percent That Can Be Heated', 'Multifamily Housing - Total Number of Residential Living Units', 'Multifamily Housing - Total Number of Residential Living Units Density (Number per 1,000 sq ft)', 'Multifamily Housing - Number of Residential Living Units in a High-Rise Building Density (Number per 1,000 sq ft)', 'Multifamily Housing - Number of Residential Living Units in a Mid-Rise Building (5-9 Stories)', 'Multifamily Housing - Number of Residential Living Units in a Mid-Rise Building Density (Number per 1,000 sq ft)', 'Multifamily Housing - Resident Population Type', 'Residence Hall/Dormitory - Gross Floor Area (ft²)', 'Refrigerated Warehouse - Gross Floor Area (ft²)', 'Non-Refrigerated Warehouse - Gross Floor Area (ft²)', 'Office - Gross Floor Area (ft²)', 'Office - Number of Computers', 'Office - Number of Workers on Main Shift', 'Office - Percent That Can Be Cooled', 'Office - Percent That Can Be Heated', 'Office - Weekly Operating Hours', 'Office - Worker Density (Number per 1,000 sq ft)', 'Other - Gross Floor Area (ft²)', 'Museum - Gross Floor Area (ft²)', 'Performing Arts - Gross Floor Area (ft²)', 'Parking - Gross Floor Area (ft²)', 'Parking - Open Parking Lot Size (ft²)', 'Parking - Completely Enclosed Parking Garage Size (ft²)', 'Parking - Partially Enclosed Parking Garage Size (ft²)', 'Restaurant - Gross Floor Area (ft²)', 'Restaurant - Weekly Operating Hours', 'Restaurant - Worker Density (Number per 1,000 sq ft)', 'Retail Store - Gross Floor Area (ft²)', 'Retail Store - Number of Walk-in Refrigeration/Freezer Units', 'Retail Store - Number of Open or Closed Refrigeration/Freezer Units', 'Self-Storage Facility - Gross Floor Area (ft²)', 'Senior Living Community - Gross Floor Area (ft²)', 'Senior Living Community - Living Unit Density (Number per 1,000 sq ft)', 'Social/Meeting Hall - Gross Floor Area (ft²)', 'Supermarket/Grocery - Gross Floor Area (ft²)', 'Supermarket/Grocery - Number of Walk-in Refrigeration/Freezer Units', 'Supermarket/Grocery - Number of Open or Closed Refrigeration/Freezer Units', 'Wholesale Club/Supercenter- Gross Floor Area (ft²)', 'Wholesale Club/Supercenter- Exterior Entrance to the Public', 'Wastewater Treatment Plant - Gross Floor Area (ft²)', 'Worship Facility - Gross Floor Area (ft²)', 'Strip Mall - Gross Floor Area (ft²)', 'Property GFA - Self-Reported (ft²)', 'Property GFA - Calculated (Buildings and Parking) (ft²)', 'Property GFA - Calculated (Buildings) (ft²)', 'Property GFA - Calculated (Parking) (ft²)', 'Property Notes', 'Water Use (All Water Sources) (kgal)', 'Indoor Water Use (All Water Sources) (kgal)', 'Outdoor Water Use (All Water Sources) (kgal)', 'Municipally Supplied Potable Water - Mixed Indoor/Outdoor Use (kgal)', 'Municipally Supplied Potable Water - Total Use (All Meter Types) (kgal)', 'Municipally Supplied Potable Water - Indoor Use (kgal)', 'Municipally Supplied Potable Water - Outdoor Use (kgal)', 'Third Party Certification', 'Third Party Certification Date Anticipated', 'Third Party Certification Date Achieved', 'Data Quality Checker Run?', 'Data Quality Checker - Date Run', 'Last Modified Date - Property', 'Last Modified Date - Electric Meters', 'Electric Distribution Utility', 'Last Modified Date - Gas Meters', 'Last Modified Date - Non-Electric Non-Gas Energy Meters', 'Last Modified Date - Water Meters', 'Last Modified Date - Property Use', 'Last Modified Date - Property Use Details', 'Number of Active Energy Meters - Total', 'Number of Active Energy Meters - Used to Compute Metrics', 'Number of Active Energy Meters - Not Used to Compute Metrics', 'Number of Active IT Meters', 'Aggregate Meter(s)-Electric – Number of Individual Meters Included', 'Aggregate Meter(s)-Natural Gas – Number of Individual Meters Included', 'Aggregate Meter(s)-District Steam – Number of Individual Meters Included', 'Report Generation Date', 'Report Submission Date', 'Borough', 'Latitude', 'Longitude', 'Community Board', 'Council District', 'Census Tract (2020)', 'Neighborhood Tabulation Area (NTA) (2020)']\n",
      "Missing values:\n",
      "Calendar Year                                   0\n",
      "Property ID                                     0\n",
      "Property Name                                   0\n",
      "Parent Property ID                              0\n",
      "Parent Property Name                            0\n",
      "                                             ... \n",
      "Longitude                                    2379\n",
      "Community Board                              2378\n",
      "Council District                             2378\n",
      "Census Tract (2020)                          2378\n",
      "Neighborhood Tabulation Area (NTA) (2020)    2378\n",
      "Length: 265, dtype: int64\n"
     ]
    }
   ],
   "source": [
    "# Basic exploration\n",
    "print(f\"Dataset shape: {df.shape}\")\n",
    "print(f\"Columns: {df.columns.tolist()}\")\n",
    "print(f\"Missing values:\\n{df.isnull().sum()}\")"
   ]
  },
  {
   "cell_type": "code",
   "execution_count": 5,
   "id": "b835d534",
   "metadata": {},
   "outputs": [],
   "source": [
    "# Focus on key metrics\n",
    "energy_cols = ['Weather Normalized Site EUI (kBtu/ft²)', \n",
    "               'Site EUI (kBtu/ft²)', \n",
    "               'Total GHG Emissions (Metric Tons CO2e)']"
   ]
  }
 ],
 "metadata": {
  "kernelspec": {
   "display_name": "venv",
   "language": "python",
   "name": "python3"
  },
  "language_info": {
   "codemirror_mode": {
    "name": "ipython",
    "version": 3
   },
   "file_extension": ".py",
   "mimetype": "text/x-python",
   "name": "python",
   "nbconvert_exporter": "python",
   "pygments_lexer": "ipython3",
   "version": "3.13.1"
  }
 },
 "nbformat": 4,
 "nbformat_minor": 5
}
